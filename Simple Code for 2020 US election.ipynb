{
 "cells": [
  {
   "cell_type": "code",
   "execution_count": 4,
   "metadata": {
    "scrolled": true
   },
   "outputs": [
    {
     "data": {
      "text/plain": [
       "<AxesSubplot:>"
      ]
     },
     "execution_count": 4,
     "metadata": {},
     "output_type": "execute_result"
    },
    {
     "data": {
      "image/png": "[encoded data removed]",
      "text/plain": [
       "<Figure size 432x288 with 1 Axes>"
      ]
     },
     "metadata": {
      "needs_background": "light"
     },
     "output_type": "display_data"
    }
   ],
   "source": [
    "import numpy as np # linear algebra\n",
    "import pandas as pd # data processing, CSV file I/O (e.g. pd.read_csv)\n",
    "from matplotlib import pyplot as plt \n",
    "import os\n",
    "\n",
    "\n",
    "counties = pd.read_csv('president_county_candidate.csv')\n",
    "Benford_check = pd.DataFrame()\n",
    "\n",
    "Benford_check['Biden'] = counties.loc[counties.candidate == 'Joe Biden'].total_votes.astype(str).str[0].astype(int).value_counts()\n",
    "Benford_check['Trump'] = counties.loc[counties.candidate == 'Donald Trump'].total_votes.astype(str).str[0].astype(int).value_counts()\n",
    "Benford_check['Benford'] = [30.1, 17.6, 12.5, 9.7, 7.9, 6.7, 5.8, 5.1, 4.6, 0.0]\n",
    "\n",
    "Benford_check.Biden = Benford_check.Biden / Benford_check.Biden.sum() * 100\n",
    "Benford_check.Trump = Benford_check.Trump / Benford_check.Trump.sum() * 100\n",
    "Benford_check.plot.bar(color={'Biden': 'blue','Trump': 'red', 'Benford': 'purple'})"
   ]
  }
 ],
 "metadata": {
  "kernelspec": {
   "display_name": "Python 3",
   "language": "python",
   "name": "python3"
  },
  "language_info": {
   "codemirror_mode": {
    "name": "ipython",
    "version": 3
   },
   "file_extension": ".py",
   "mimetype": "text/x-python",
   "name": "python",
   "nbconvert_exporter": "python",
   "pygments_lexer": "ipython3",
   "version": "3.8.5"
  }
 },
 "nbformat": 4,
 "nbformat_minor": 4
}
